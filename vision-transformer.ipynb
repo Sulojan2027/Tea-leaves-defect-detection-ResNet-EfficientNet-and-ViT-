{
 "cells": [
  {
   "cell_type": "code",
   "execution_count": 6,
   "metadata": {
    "_cell_guid": "b1076dfc-b9ad-4769-8c92-a6c4dae69d19",
    "_uuid": "8f2839f25d086af736a60e9eeb907d3b93b6e0e5",
    "execution": {
     "iopub.execute_input": "2025-09-01T12:21:11.119334Z",
     "iopub.status.busy": "2025-09-01T12:21:11.119014Z",
     "iopub.status.idle": "2025-09-01T12:21:12.207380Z",
     "shell.execute_reply": "2025-09-01T12:21:12.206768Z",
     "shell.execute_reply.started": "2025-09-01T12:21:11.119305Z"
    },
    "trusted": true
   },
   "outputs": [
    {
     "name": "stdout",
     "output_type": "stream",
     "text": [
      "/kaggle/input\n",
      "/kaggle/input/identifying-disease-in-tea-leafs\n",
      "/kaggle/input/identifying-disease-in-tea-leafs/tea sickness dataset\n",
      "/kaggle/input/identifying-disease-in-tea-leafs/tea sickness dataset/white spot\n",
      "/kaggle/input/identifying-disease-in-tea-leafs/tea sickness dataset/Anthracnose\n",
      "/kaggle/input/identifying-disease-in-tea-leafs/tea sickness dataset/healthy\n",
      "/kaggle/input/identifying-disease-in-tea-leafs/tea sickness dataset/bird eye spot\n",
      "/kaggle/input/identifying-disease-in-tea-leafs/tea sickness dataset/brown blight\n",
      "/kaggle/input/identifying-disease-in-tea-leafs/tea sickness dataset/red leaf spot\n",
      "/kaggle/input/identifying-disease-in-tea-leafs/tea sickness dataset/gray light\n",
      "/kaggle/input/identifying-disease-in-tea-leafs/tea sickness dataset/algal leaf\n"
     ]
    }
   ],
   "source": [
    "# This Python 3 environment comes with many helpful analytics libraries installed\n",
    "# It is defined by the kaggle/python Docker image: https://github.com/kaggle/docker-python\n",
    "# For example, here's several helpful packages to load\n",
    "\n",
    "import numpy as np # linear algebra\n",
    "import pandas as pd # data processing, CSV file I/O (e.g. pd.read_csv)\n",
    "\n",
    "# Input data files are available in the read-only \"../input/\" directory\n",
    "# For example, running this (by clicking run or pressing Shift+Enter) will list all files under the input directory\n",
    "\n",
    "import os\n",
    "for dirname, _, filenames in os.walk('/kaggle/input'):\n",
    "    print(dirname)\n",
    "\n",
    "# You can write up to 20GB to the current directory (/kaggle/working/) that gets preserved as output when you create a version using \"Save & Run All\" \n",
    "# You can also write temporary files to /kaggle/temp/, but they won't be saved outside of the current session"
   ]
  },
  {
   "cell_type": "code",
   "execution_count": 7,
   "metadata": {
    "execution": {
     "iopub.execute_input": "2025-09-01T12:21:15.869006Z",
     "iopub.status.busy": "2025-09-01T12:21:15.868725Z",
     "iopub.status.idle": "2025-09-01T12:21:15.873350Z",
     "shell.execute_reply": "2025-09-01T12:21:15.872449Z",
     "shell.execute_reply.started": "2025-09-01T12:21:15.868984Z"
    },
    "trusted": true
   },
   "outputs": [],
   "source": [
    "import os\n",
    "\n",
    "os.environ[\"KERAS_BACKEND\"] = \"jax\"  # @param [\"tensorflow\", \"jax\", \"torch\"]\n",
    "\n",
    "import tensorflow as tf\n",
    "import keras\n",
    "from keras import layers\n",
    "from keras import ops\n",
    "\n",
    "import numpy as np\n",
    "import matplotlib.pyplot as plt"
   ]
  },
  {
   "cell_type": "code",
   "execution_count": 8,
   "metadata": {
    "execution": {
     "iopub.execute_input": "2025-09-01T12:21:19.789030Z",
     "iopub.status.busy": "2025-09-01T12:21:19.788757Z",
     "iopub.status.idle": "2025-09-01T12:21:19.933841Z",
     "shell.execute_reply": "2025-09-01T12:21:19.933337Z",
     "shell.execute_reply.started": "2025-09-01T12:21:19.789008Z"
    },
    "trusted": true
   },
   "outputs": [
    {
     "name": "stdout",
     "output_type": "stream",
     "text": [
      "Found 885 files belonging to 8 classes.\n",
      "Using 708 files for training.\n",
      "Using 177 files for validation.\n"
     ]
    }
   ],
   "source": [
    "path = \"/kaggle/input/identifying-disease-in-tea-leafs/tea sickness dataset\"\n",
    "\n",
    "train,test = tf.keras.utils.image_dataset_from_directory(\n",
    "    path,\n",
    "    label_mode=\"categorical\",\n",
    "    validation_split=0.2,\n",
    "    subset=\"both\",\n",
    "    seed=42,\n",
    "    batch_size=32,\n",
    "    image_size=(768, 768),\n",
    ")\n",
    "\n",
    "train=train.cache().prefetch(1).shuffle(100)\n",
    "test=test.cache().prefetch(1)"
   ]
  },
  {
   "cell_type": "code",
   "execution_count": 9,
   "metadata": {
    "execution": {
     "iopub.execute_input": "2025-09-01T12:21:22.499297Z",
     "iopub.status.busy": "2025-09-01T12:21:22.498998Z",
     "iopub.status.idle": "2025-09-01T12:21:58.691117Z",
     "shell.execute_reply": "2025-09-01T12:21:58.690350Z",
     "shell.execute_reply.started": "2025-09-01T12:21:22.499262Z"
    },
    "trusted": true
   },
   "outputs": [
    {
     "name": "stdout",
     "output_type": "stream",
     "text": [
      "Training set: (708, 768, 768, 3) (708, 8)\n",
      "Test set: (177, 768, 768, 3) (177, 8)\n"
     ]
    }
   ],
   "source": [
    "# Convert to numpy arrays\n",
    "x_train = []\n",
    "y_train = []\n",
    "for images, labels in train:\n",
    "    x_train.append(images.numpy())\n",
    "    y_train.append(labels.numpy())\n",
    "\n",
    "x_train = tf.concat(x_train, axis=0).numpy()\n",
    "y_train = tf.concat(y_train, axis=0).numpy()\n",
    "\n",
    "x_test = []\n",
    "y_test = []\n",
    "for images, labels in test:\n",
    "    x_test.append(images.numpy())\n",
    "    y_test.append(labels.numpy())\n",
    "\n",
    "x_test = tf.concat(x_test, axis=0).numpy()\n",
    "y_test = tf.concat(y_test, axis=0).numpy()\n",
    "\n",
    "print(\"Training set:\", x_train.shape, y_train.shape)\n",
    "print(\"Test set:\", x_test.shape, y_test.shape)\n"
   ]
  },
  {
   "cell_type": "code",
   "execution_count": 10,
   "metadata": {
    "execution": {
     "iopub.execute_input": "2025-09-01T12:22:04.209372Z",
     "iopub.status.busy": "2025-09-01T12:22:04.208806Z",
     "iopub.status.idle": "2025-09-01T12:22:04.219167Z",
     "shell.execute_reply": "2025-09-01T12:22:04.218435Z",
     "shell.execute_reply.started": "2025-09-01T12:22:04.209349Z"
    },
    "trusted": true
   },
   "outputs": [
    {
     "name": "stdout",
     "output_type": "stream",
     "text": [
      "x_train shape: (708, 768, 768, 3) - y_train shape: (708, 1)\n",
      "x_test shape: (177, 768, 768, 3) - y_test shape: (177, 1)\n"
     ]
    }
   ],
   "source": [
    "# change y labels as class numbers instead of one-hot encoding\n",
    "y_train_label = []\n",
    "for y in y_train:\n",
    "    label = np.argmax(y)\n",
    "    y_train_label.append(label)\n",
    "\n",
    "y_train_label = np.array(y_train_label).reshape(y_train.shape[0], 1)\n",
    "\n",
    "y_test_label = []\n",
    "for y in y_test:\n",
    "    label = np.argmax(y)\n",
    "    y_test_label.append(label)\n",
    "\n",
    "y_test_label = np.array(y_test_label).reshape(y_test.shape[0], 1)\n",
    "\n",
    "print(f\"x_train shape: {x_train.shape} - y_train shape: {y_train_label.shape}\")\n",
    "print(f\"x_test shape: {x_test.shape} - y_test shape: {y_test_label.shape}\")"
   ]
  },
  {
   "cell_type": "code",
   "execution_count": 11,
   "metadata": {
    "execution": {
     "iopub.execute_input": "2025-09-01T12:37:15.540032Z",
     "iopub.status.busy": "2025-09-01T12:37:15.539489Z",
     "iopub.status.idle": "2025-09-01T12:37:15.544523Z",
     "shell.execute_reply": "2025-09-01T12:37:15.543746Z",
     "shell.execute_reply.started": "2025-09-01T12:37:15.540008Z"
    },
    "trusted": true
   },
   "outputs": [],
   "source": [
    "learning_rate = 0.0003\n",
    "weight_decay = 0.001\n",
    "batch_size = 128\n",
    "num_epochs = 100\n",
    "image_size = 768\n",
    "patch_size = 16\n",
    "num_patches = (image_size // patch_size) ** 2\n",
    "\n",
    "projection_dim = 128\n",
    "num_heads = 8\n",
    "\n",
    "transformer_units = [\n",
    "    projection_dim * 2,\n",
    "    projection_dim,\n",
    "]\n",
    "transformer_layers = 8\n",
    "mlp_head_units = [\n",
    "    1024,\n",
    "    512,\n",
    "]"
   ]
  },
  {
   "cell_type": "code",
   "execution_count": 13,
   "metadata": {
    "execution": {
     "iopub.execute_input": "2025-09-01T12:52:00.919895Z",
     "iopub.status.busy": "2025-09-01T12:52:00.919175Z",
     "iopub.status.idle": "2025-09-01T12:52:23.975065Z",
     "shell.execute_reply": "2025-09-01T12:52:23.974280Z",
     "shell.execute_reply.started": "2025-09-01T12:52:00.919868Z"
    },
    "trusted": true
   },
   "outputs": [],
   "source": [
    "data_augmentation = keras.Sequential(\n",
    "    [\n",
    "        layers.Normalization(),\n",
    "        layers.Resizing(image_size, image_size),\n",
    "        layers.RandomFlip(\"horizontal\"),\n",
    "        layers.RandomRotation(factor=0.02),\n",
    "        layers.RandomZoom(height_factor=0.2, width_factor = 0.2),\n",
    "        layers.RandomContrast(factor=0.2),\n",
    "    ],\n",
    "    name = \"data_augmentation\"\n",
    ")\n",
    "\n",
    "data_augmentation.layers[0].adapt(x_train)"
   ]
  },
  {
   "cell_type": "code",
   "execution_count": 15,
   "metadata": {
    "execution": {
     "iopub.execute_input": "2025-09-01T13:09:00.259108Z",
     "iopub.status.busy": "2025-09-01T13:09:00.258428Z",
     "iopub.status.idle": "2025-09-01T13:09:00.262998Z",
     "shell.execute_reply": "2025-09-01T13:09:00.262186Z",
     "shell.execute_reply.started": "2025-09-01T13:09:00.259081Z"
    },
    "trusted": true
   },
   "outputs": [],
   "source": [
    "def mlp(x, hidden_units, dropout_rate):\n",
    "    for units in hidden_units:\n",
    "        x = layers.Dense(units, activation=keras.activation.gelu)(x)\n",
    "        x = layers.Dropout(dropout_rate)(x)\n",
    "    return x"
   ]
  },
  {
   "cell_type": "code",
   "execution_count": null,
   "metadata": {
    "trusted": true
   },
   "outputs": [],
   "source": []
  }
 ],
 "metadata": {
  "kaggle": {
   "accelerator": "nvidiaTeslaT4",
   "dataSources": [
    {
     "datasetId": 2201659,
     "sourceId": 3678857,
     "sourceType": "datasetVersion"
    }
   ],
   "dockerImageVersionId": 31090,
   "isGpuEnabled": true,
   "isInternetEnabled": true,
   "language": "python",
   "sourceType": "notebook"
  },
  "kernelspec": {
   "display_name": "Python 3",
   "language": "python",
   "name": "python3"
  },
  "language_info": {
   "codemirror_mode": {
    "name": "ipython",
    "version": 3
   },
   "file_extension": ".py",
   "mimetype": "text/x-python",
   "name": "python",
   "nbconvert_exporter": "python",
   "pygments_lexer": "ipython3",
   "version": "3.11.13"
  }
 },
 "nbformat": 4,
 "nbformat_minor": 4
}
